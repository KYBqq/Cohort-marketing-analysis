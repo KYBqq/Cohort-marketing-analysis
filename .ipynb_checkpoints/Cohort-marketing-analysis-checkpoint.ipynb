{
 "cells": [
  {
   "cell_type": "markdown",
   "id": "c8b8cce8-490f-4ff4-b8cd-3a24927f184a",
   "metadata": {},
   "source": [
    "Есть два набора данных (во вложении): визиты пользователей на сервис и данные по покупкам. У каждого визита есть источник, а также устройство, с которого заходил пользователь.\n",
    "```\n",
    "Файл: purchases – покупки. \n",
    "Файл: visits – визиты.\n",
    "```\n",
    "```\n",
    "Обозначения в файлах:\n",
    "start_dt — дата старта визита,\n",
    "start_ts — дата и время старта визита,\n",
    "end_ts — дата окончания визита,\n",
    "uid — идентификатор пользователя,\n",
    "source_id — id источника визита,\n",
    "device — устройство,\n",
    "buy_ts — дата и время покупки,\n",
    "revenue — доход в y.e.\n",
    "```\n",
    "```\n",
    "Необходимо определить:\n",
    "\n",
    "1)\tКакая когорта пользователей (по месяцу первой покупки) принесла наибольший средний чек на пользователя, какая наименьший.\n",
    "2)\tКакие аномалии в трафике видите, если они есть.\n",
    "3)\tКакой LTV на каждую когорту пользователей (по месяцу первой покупки)?\n",
    "4)\tС какого source_id мы получили больший доход помесячно, учитывая, что покупку относим к id источника последнего перед покупкой визита.\n",
    "```\n",
    "\n",
    "Просьба написать sql-запросы и визуализировать данные с помощью любого инструмента.\n"
   ]
  },
  {
   "cell_type": "code",
   "execution_count": 2,
   "id": "c92f56ff-e4e0-42fb-ba40-5ca4621918e0",
   "metadata": {},
   "outputs": [],
   "source": [
    "import pandas as pd\n",
    "import plotly_express as px"
   ]
  },
  {
   "cell_type": "code",
   "execution_count": 3,
   "id": "a79f42ae-cbdb-44fa-b905-be988417fe3e",
   "metadata": {},
   "outputs": [],
   "source": [
    "df1p = pd.read_excel('Источники переделанные в excel/purchases.xlsx')\n",
    "df2v = pd.read_excel('Источники переделанные в excel/visits.xlsx')"
   ]
  },
  {
   "cell_type": "code",
   "execution_count": 4,
   "id": "3c6f9826-1572-48f4-9f82-ba370c811f94",
   "metadata": {},
   "outputs": [
    {
     "name": "stdout",
     "output_type": "stream",
     "text": [
      "<class 'pandas.core.frame.DataFrame'>\n",
      "RangeIndex: 75716 entries, 0 to 75715\n",
      "Data columns (total 3 columns):\n",
      " #   Column   Non-Null Count  Dtype         \n",
      "---  ------   --------------  -----         \n",
      " 0   buy_ts   75716 non-null  datetime64[ns]\n",
      " 1   uid      75716 non-null  int64         \n",
      " 2   revenue  75716 non-null  float64       \n",
      "dtypes: datetime64[ns](1), float64(1), int64(1)\n",
      "memory usage: 1.7 MB\n",
      "<class 'pandas.core.frame.DataFrame'>\n",
      "RangeIndex: 720679 entries, 0 to 720678\n",
      "Data columns (total 6 columns):\n",
      " #   Column     Non-Null Count   Dtype         \n",
      "---  ------     --------------   -----         \n",
      " 0   device     720679 non-null  object        \n",
      " 1   end_ts     720679 non-null  object        \n",
      " 2   source_id  720679 non-null  int64         \n",
      " 3   start_dt   720679 non-null  datetime64[ns]\n",
      " 4   start_ts   720679 non-null  object        \n",
      " 5   uid        720679 non-null  int64         \n",
      "dtypes: datetime64[ns](1), int64(2), object(3)\n",
      "memory usage: 33.0+ MB\n"
     ]
    }
   ],
   "source": [
    "#Просмотр типов данных: \n",
    "df1p.info()\n",
    "df2v.info()"
   ]
  },
  {
   "cell_type": "code",
   "execution_count": 5,
   "id": "83105b80-9510-4c19-80f7-d06ec23a7452",
   "metadata": {},
   "outputs": [
    {
     "data": {
      "text/html": [
       "<div>\n",
       "<style scoped>\n",
       "    .dataframe tbody tr th:only-of-type {\n",
       "        vertical-align: middle;\n",
       "    }\n",
       "\n",
       "    .dataframe tbody tr th {\n",
       "        vertical-align: top;\n",
       "    }\n",
       "\n",
       "    .dataframe thead th {\n",
       "        text-align: right;\n",
       "    }\n",
       "</style>\n",
       "<table border=\"1\" class=\"dataframe\">\n",
       "  <thead>\n",
       "    <tr style=\"text-align: right;\">\n",
       "      <th></th>\n",
       "      <th>device</th>\n",
       "      <th>end_ts</th>\n",
       "      <th>source_id</th>\n",
       "      <th>start_dt</th>\n",
       "      <th>start_ts</th>\n",
       "      <th>uid</th>\n",
       "    </tr>\n",
       "  </thead>\n",
       "  <tbody>\n",
       "    <tr>\n",
       "      <th>0</th>\n",
       "      <td>desktop</td>\n",
       "      <td>2016-11-30T11:04:17Z</td>\n",
       "      <td>2</td>\n",
       "      <td>2016-11-30</td>\n",
       "      <td>2016-11-30T10:53:49Z</td>\n",
       "      <td>3758486201</td>\n",
       "    </tr>\n",
       "    <tr>\n",
       "      <th>1</th>\n",
       "      <td>desktop</td>\n",
       "      <td>2016-11-10T23:16:57Z</td>\n",
       "      <td>4</td>\n",
       "      <td>2016-11-10</td>\n",
       "      <td>2016-11-10T23:08:04Z</td>\n",
       "      <td>2933941628</td>\n",
       "    </tr>\n",
       "    <tr>\n",
       "      <th>2</th>\n",
       "      <td>desktop</td>\n",
       "      <td>2016-10-19T18:51:56Z</td>\n",
       "      <td>1</td>\n",
       "      <td>2016-10-19</td>\n",
       "      <td>2016-10-19T18:48:16Z</td>\n",
       "      <td>1465872791</td>\n",
       "    </tr>\n",
       "    <tr>\n",
       "      <th>3</th>\n",
       "      <td>desktop</td>\n",
       "      <td>2017-01-12T20:51:55Z</td>\n",
       "      <td>9</td>\n",
       "      <td>2017-01-12</td>\n",
       "      <td>2017-01-12T20:50:10Z</td>\n",
       "      <td>2751875787</td>\n",
       "    </tr>\n",
       "    <tr>\n",
       "      <th>4</th>\n",
       "      <td>touch</td>\n",
       "      <td>2016-07-23T19:17:19Z</td>\n",
       "      <td>4</td>\n",
       "      <td>2016-07-23</td>\n",
       "      <td>2016-07-23T19:10:57Z</td>\n",
       "      <td>3492372810</td>\n",
       "    </tr>\n",
       "  </tbody>\n",
       "</table>\n",
       "</div>"
      ],
      "text/plain": [
       "    device                end_ts  source_id   start_dt              start_ts  \\\n",
       "0  desktop  2016-11-30T11:04:17Z          2 2016-11-30  2016-11-30T10:53:49Z   \n",
       "1  desktop  2016-11-10T23:16:57Z          4 2016-11-10  2016-11-10T23:08:04Z   \n",
       "2  desktop  2016-10-19T18:51:56Z          1 2016-10-19  2016-10-19T18:48:16Z   \n",
       "3  desktop  2017-01-12T20:51:55Z          9 2017-01-12  2017-01-12T20:50:10Z   \n",
       "4    touch  2016-07-23T19:17:19Z          4 2016-07-23  2016-07-23T19:10:57Z   \n",
       "\n",
       "          uid  \n",
       "0  3758486201  \n",
       "1  2933941628  \n",
       "2  1465872791  \n",
       "3  2751875787  \n",
       "4  3492372810  "
      ]
     },
     "execution_count": 5,
     "metadata": {},
     "output_type": "execute_result"
    }
   ],
   "source": [
    "#Просмотр дат в визитах:\n",
    "df2v.head()"
   ]
  },
  {
   "cell_type": "code",
   "execution_count": 6,
   "id": "7c230faa-e345-43c9-857f-dcfb604f2896",
   "metadata": {},
   "outputs": [],
   "source": [
    "#Форматирование к одному формату даты: \n",
    "\n",
    "df2v['start_ts'] = pd.to_datetime(df2v['start_ts'])\n",
    "df2v['end_ts'] = pd.to_datetime(df2v['end_ts'])"
   ]
  },
  {
   "cell_type": "code",
   "execution_count": 7,
   "id": "bf67a767-345c-4356-931a-1465d3600181",
   "metadata": {},
   "outputs": [
    {
     "name": "stdout",
     "output_type": "stream",
     "text": [
      "<class 'pandas.core.frame.DataFrame'>\n",
      "RangeIndex: 75716 entries, 0 to 75715\n",
      "Data columns (total 3 columns):\n",
      " #   Column   Non-Null Count  Dtype         \n",
      "---  ------   --------------  -----         \n",
      " 0   buy_ts   75716 non-null  datetime64[ns]\n",
      " 1   uid      75716 non-null  int64         \n",
      " 2   revenue  75716 non-null  float64       \n",
      "dtypes: datetime64[ns](1), float64(1), int64(1)\n",
      "memory usage: 1.7 MB\n",
      "<class 'pandas.core.frame.DataFrame'>\n",
      "RangeIndex: 720679 entries, 0 to 720678\n",
      "Data columns (total 6 columns):\n",
      " #   Column     Non-Null Count   Dtype              \n",
      "---  ------     --------------   -----              \n",
      " 0   device     720679 non-null  object             \n",
      " 1   end_ts     720679 non-null  datetime64[ns, UTC]\n",
      " 2   source_id  720679 non-null  int64              \n",
      " 3   start_dt   720679 non-null  datetime64[ns]     \n",
      " 4   start_ts   720679 non-null  datetime64[ns, UTC]\n",
      " 5   uid        720679 non-null  int64              \n",
      "dtypes: datetime64[ns, UTC](2), datetime64[ns](1), int64(2), object(1)\n",
      "memory usage: 33.0+ MB\n"
     ]
    }
   ],
   "source": [
    "#Просмотр типов данных: \n",
    "df1p.info()\n",
    "df2v.info()"
   ]
  },
  {
   "cell_type": "code",
   "execution_count": 8,
   "id": "d7b3f5f3-45fb-4945-a985-61d902b80063",
   "metadata": {},
   "outputs": [
    {
     "data": {
      "text/html": [
       "<div>\n",
       "<style scoped>\n",
       "    .dataframe tbody tr th:only-of-type {\n",
       "        vertical-align: middle;\n",
       "    }\n",
       "\n",
       "    .dataframe tbody tr th {\n",
       "        vertical-align: top;\n",
       "    }\n",
       "\n",
       "    .dataframe thead th {\n",
       "        text-align: right;\n",
       "    }\n",
       "</style>\n",
       "<table border=\"1\" class=\"dataframe\">\n",
       "  <thead>\n",
       "    <tr style=\"text-align: right;\">\n",
       "      <th></th>\n",
       "      <th>device</th>\n",
       "      <th>end_ts</th>\n",
       "      <th>source_id</th>\n",
       "      <th>start_dt</th>\n",
       "      <th>start_ts</th>\n",
       "      <th>uid</th>\n",
       "    </tr>\n",
       "  </thead>\n",
       "  <tbody>\n",
       "    <tr>\n",
       "      <th>0</th>\n",
       "      <td>desktop</td>\n",
       "      <td>2016-11-30 11:04:17+00:00</td>\n",
       "      <td>2</td>\n",
       "      <td>2016-11-30</td>\n",
       "      <td>2016-11-30 10:53:49+00:00</td>\n",
       "      <td>3758486201</td>\n",
       "    </tr>\n",
       "    <tr>\n",
       "      <th>1</th>\n",
       "      <td>desktop</td>\n",
       "      <td>2016-11-10 23:16:57+00:00</td>\n",
       "      <td>4</td>\n",
       "      <td>2016-11-10</td>\n",
       "      <td>2016-11-10 23:08:04+00:00</td>\n",
       "      <td>2933941628</td>\n",
       "    </tr>\n",
       "    <tr>\n",
       "      <th>2</th>\n",
       "      <td>desktop</td>\n",
       "      <td>2016-10-19 18:51:56+00:00</td>\n",
       "      <td>1</td>\n",
       "      <td>2016-10-19</td>\n",
       "      <td>2016-10-19 18:48:16+00:00</td>\n",
       "      <td>1465872791</td>\n",
       "    </tr>\n",
       "    <tr>\n",
       "      <th>3</th>\n",
       "      <td>desktop</td>\n",
       "      <td>2017-01-12 20:51:55+00:00</td>\n",
       "      <td>9</td>\n",
       "      <td>2017-01-12</td>\n",
       "      <td>2017-01-12 20:50:10+00:00</td>\n",
       "      <td>2751875787</td>\n",
       "    </tr>\n",
       "    <tr>\n",
       "      <th>4</th>\n",
       "      <td>touch</td>\n",
       "      <td>2016-07-23 19:17:19+00:00</td>\n",
       "      <td>4</td>\n",
       "      <td>2016-07-23</td>\n",
       "      <td>2016-07-23 19:10:57+00:00</td>\n",
       "      <td>3492372810</td>\n",
       "    </tr>\n",
       "  </tbody>\n",
       "</table>\n",
       "</div>"
      ],
      "text/plain": [
       "    device                    end_ts  source_id   start_dt  \\\n",
       "0  desktop 2016-11-30 11:04:17+00:00          2 2016-11-30   \n",
       "1  desktop 2016-11-10 23:16:57+00:00          4 2016-11-10   \n",
       "2  desktop 2016-10-19 18:51:56+00:00          1 2016-10-19   \n",
       "3  desktop 2017-01-12 20:51:55+00:00          9 2017-01-12   \n",
       "4    touch 2016-07-23 19:17:19+00:00          4 2016-07-23   \n",
       "\n",
       "                   start_ts         uid  \n",
       "0 2016-11-30 10:53:49+00:00  3758486201  \n",
       "1 2016-11-10 23:08:04+00:00  2933941628  \n",
       "2 2016-10-19 18:48:16+00:00  1465872791  \n",
       "3 2017-01-12 20:50:10+00:00  2751875787  \n",
       "4 2016-07-23 19:10:57+00:00  3492372810  "
      ]
     },
     "execution_count": 8,
     "metadata": {},
     "output_type": "execute_result"
    }
   ],
   "source": [
    "#Просмотр дат в визитах:\n",
    "df2v.head()"
   ]
  },
  {
   "cell_type": "code",
   "execution_count": 25,
   "id": "2c8167b5-548e-4d0a-83f2-aa598f3a74c7",
   "metadata": {},
   "outputs": [
    {
     "name": "stdout",
     "output_type": "stream",
     "text": [
      "Покупки, пропущенные значения buy_ts     0\n",
      "uid        0\n",
      "revenue    0\n",
      "dtype: int64\n",
      "Визиты, пропущенные значения device       0\n",
      "end_ts       0\n",
      "source_id    0\n",
      "start_dt     0\n",
      "start_ts     0\n",
      "uid          0\n",
      "dtype: int64\n",
      "Покупки, дубликаты 0\n",
      "Визиты, дубликаты 0\n"
     ]
    }
   ],
   "source": [
    "# Общая статистика, пропущенные значения и дубликаты.\n",
    "\n",
    "print('Покупки, пропущенные значения', df1p.isnull().sum())\n",
    "print('Визиты, пропущенные значения', df2v.isnull().sum())\n",
    "print('Покупки, дубликаты', df1p.duplicated().sum())\n",
    "print('Визиты, дубликаты', df2v.duplicated().sum())"
   ]
  },
  {
   "cell_type": "code",
   "execution_count": 23,
   "id": "28ab610f-4c25-4d3c-b8de-292992cf005f",
   "metadata": {},
   "outputs": [
    {
     "name": "stdout",
     "output_type": "stream",
     "text": [
      "Покупки (75716, 3)\n",
      "Визиты (720679, 6)\n"
     ]
    }
   ],
   "source": [
    "#Данные до Join:\n",
    "print('Покупки', df1p.shape)\n",
    "print('Визиты', df2v.shape)"
   ]
  },
  {
   "cell_type": "code",
   "execution_count": 10,
   "id": "add3e55e-b075-426a-b16a-5f03bb357a08",
   "metadata": {},
   "outputs": [],
   "source": [
    "#Join файлов:\n",
    "table1 = pd.merge(df1p, df2v, on='uid', how='left')"
   ]
  },
  {
   "cell_type": "code",
   "execution_count": 30,
   "id": "87579cf1-9b26-4e90-8af0-36ec03a60d61",
   "metadata": {},
   "outputs": [
    {
     "name": "stdout",
     "output_type": "stream",
     "text": [
      "Покупки/Визиты, пропущенные значения: buy_ts       0\n",
      "uid          0\n",
      "revenue      0\n",
      "device       0\n",
      "end_ts       0\n",
      "source_id    0\n",
      "start_dt     0\n",
      "start_ts     0\n",
      "dtype: int64\n",
      "Покупки/Визиты, дубликаты: 0\n",
      "Исходных покупок: 75716\n",
      "Уникальных покупок после джоина: 75716\n",
      "Количество строк table1 после Join: (5325086, 8)\n",
      "Join корректен: True\n"
     ]
    }
   ],
   "source": [
    "#Проверка после Join:\n",
    "print('Покупки/Визиты, пропущенные значения:', table1.isnull().sum())\n",
    "print('Покупки/Визиты, дубликаты:', table1.duplicated().sum())\n",
    "\n",
    "#Проверка после Join:\n",
    "buyDO = print('Исходных покупок:', df1p.shape[0])\n",
    "buyPosle = print('Уникальных покупок после джоина:', table1.groupby(['uid', 'buy_ts']).ngroups)\n",
    "\n",
    "#Данные после Join:\n",
    "print('Количество строк table1 после Join:', table1.shape)\n",
    "\n",
    "#Join работает корректно если buyPosle = buyDO (Количество строк и там и там).\n",
    "\n",
    "print('Join корректен:', buyDO == buyPosle)"
   ]
  },
  {
   "cell_type": "markdown",
   "id": "b4b4b20e-a1a6-40ac-9aa7-a8afd4c51e9c",
   "metadata": {},
   "source": [
    "Приступаем к первой задаче:\n",
    "```\n",
    "1)\tКакая когорта пользователей (по месяцу первой покупки) принесла наибольший средний чек на пользователя, какая наименьший.\n",
    "\n",
    "```"
   ]
  },
  {
   "cell_type": "markdown",
   "id": "14533896-c261-49eb-9aca-6c99a4f12a4d",
   "metadata": {},
   "source": [
    "Подготовка к когортному анализу:"
   ]
  },
  {
   "cell_type": "code",
   "execution_count": 12,
   "id": "b6cb37a3-83e4-41ee-9780-4497d094b99f",
   "metadata": {},
   "outputs": [
    {
     "data": {
      "text/html": [
       "<div>\n",
       "<style scoped>\n",
       "    .dataframe tbody tr th:only-of-type {\n",
       "        vertical-align: middle;\n",
       "    }\n",
       "\n",
       "    .dataframe tbody tr th {\n",
       "        vertical-align: top;\n",
       "    }\n",
       "\n",
       "    .dataframe thead th {\n",
       "        text-align: right;\n",
       "    }\n",
       "</style>\n",
       "<table border=\"1\" class=\"dataframe\">\n",
       "  <thead>\n",
       "    <tr style=\"text-align: right;\">\n",
       "      <th></th>\n",
       "      <th>uid</th>\n",
       "      <th>buy_ts</th>\n",
       "    </tr>\n",
       "  </thead>\n",
       "  <tbody>\n",
       "    <tr>\n",
       "      <th>0</th>\n",
       "      <td>157352</td>\n",
       "      <td>2016-06-23 13:08:21</td>\n",
       "    </tr>\n",
       "    <tr>\n",
       "      <th>1</th>\n",
       "      <td>256370</td>\n",
       "      <td>2016-06-13 18:07:53</td>\n",
       "    </tr>\n",
       "    <tr>\n",
       "      <th>2</th>\n",
       "      <td>308857</td>\n",
       "      <td>2016-06-23 09:07:29</td>\n",
       "    </tr>\n",
       "    <tr>\n",
       "      <th>3</th>\n",
       "      <td>352142</td>\n",
       "      <td>2017-02-17 18:41:06</td>\n",
       "    </tr>\n",
       "    <tr>\n",
       "      <th>4</th>\n",
       "      <td>445960</td>\n",
       "      <td>2016-10-19 13:28:03</td>\n",
       "    </tr>\n",
       "  </tbody>\n",
       "</table>\n",
       "</div>"
      ],
      "text/plain": [
       "      uid              buy_ts\n",
       "0  157352 2016-06-23 13:08:21\n",
       "1  256370 2016-06-13 18:07:53\n",
       "2  308857 2016-06-23 09:07:29\n",
       "3  352142 2017-02-17 18:41:06\n",
       "4  445960 2016-10-19 13:28:03"
      ]
     },
     "execution_count": 12,
     "metadata": {},
     "output_type": "execute_result"
    }
   ],
   "source": [
    "#Шаг 1. Найти первую покупку каждого покупателя (получить даты первых покупок для когорт). \n",
    "\n",
    "first_buy = table1.groupby('uid')['buy_ts'].min().reset_index()\n",
    "first_buy.head()"
   ]
  },
  {
   "cell_type": "code",
   "execution_count": 13,
   "id": "b8aca253-09a8-41e3-9dd4-563e03a1fdbd",
   "metadata": {},
   "outputs": [],
   "source": [
    "#Шаг 2. Переделываем даты в месяцы (когорты).\n",
    "\n",
    "first_buy['cohort_month'] = first_buy['buy_ts'].dt.to_period('M')"
   ]
  },
  {
   "cell_type": "code",
   "execution_count": 14,
   "id": "203b5aa8-048a-439b-9372-e9699c213c04",
   "metadata": {},
   "outputs": [
    {
     "data": {
      "text/html": [
       "<div>\n",
       "<style scoped>\n",
       "    .dataframe tbody tr th:only-of-type {\n",
       "        vertical-align: middle;\n",
       "    }\n",
       "\n",
       "    .dataframe tbody tr th {\n",
       "        vertical-align: top;\n",
       "    }\n",
       "\n",
       "    .dataframe thead th {\n",
       "        text-align: right;\n",
       "    }\n",
       "</style>\n",
       "<table border=\"1\" class=\"dataframe\">\n",
       "  <thead>\n",
       "    <tr style=\"text-align: right;\">\n",
       "      <th></th>\n",
       "      <th>buy_ts</th>\n",
       "      <th>uid</th>\n",
       "      <th>revenue</th>\n",
       "      <th>device</th>\n",
       "      <th>end_ts</th>\n",
       "      <th>source_id</th>\n",
       "      <th>start_dt</th>\n",
       "      <th>start_ts</th>\n",
       "      <th>cohort_month</th>\n",
       "    </tr>\n",
       "  </thead>\n",
       "  <tbody>\n",
       "    <tr>\n",
       "      <th>0</th>\n",
       "      <td>2016-07-23 19:13:54</td>\n",
       "      <td>3492372810</td>\n",
       "      <td>1.47</td>\n",
       "      <td>touch</td>\n",
       "      <td>2016-07-23 19:17:19+00:00</td>\n",
       "      <td>4</td>\n",
       "      <td>2016-07-23</td>\n",
       "      <td>2016-07-23 19:10:57+00:00</td>\n",
       "      <td>2016-07</td>\n",
       "    </tr>\n",
       "    <tr>\n",
       "      <th>1</th>\n",
       "      <td>2016-07-23 19:13:54</td>\n",
       "      <td>3492372810</td>\n",
       "      <td>1.47</td>\n",
       "      <td>desktop</td>\n",
       "      <td>2017-04-18 15:24:04+00:00</td>\n",
       "      <td>1</td>\n",
       "      <td>2017-04-18</td>\n",
       "      <td>2017-04-18 15:17:26+00:00</td>\n",
       "      <td>2016-07</td>\n",
       "    </tr>\n",
       "    <tr>\n",
       "      <th>2</th>\n",
       "      <td>2016-11-06 02:48:27</td>\n",
       "      <td>1564753091</td>\n",
       "      <td>1.11</td>\n",
       "      <td>desktop</td>\n",
       "      <td>2016-11-06 02:54:57+00:00</td>\n",
       "      <td>5</td>\n",
       "      <td>2016-11-06</td>\n",
       "      <td>2016-11-06 02:38:06+00:00</td>\n",
       "      <td>2016-11</td>\n",
       "    </tr>\n",
       "    <tr>\n",
       "      <th>3</th>\n",
       "      <td>2016-11-06 02:48:27</td>\n",
       "      <td>1564753091</td>\n",
       "      <td>1.11</td>\n",
       "      <td>desktop</td>\n",
       "      <td>2016-11-06 01:43:14+00:00</td>\n",
       "      <td>5</td>\n",
       "      <td>2016-11-06</td>\n",
       "      <td>2016-11-06 01:25:11+00:00</td>\n",
       "      <td>2016-11</td>\n",
       "    </tr>\n",
       "    <tr>\n",
       "      <th>4</th>\n",
       "      <td>2016-11-06 02:48:27</td>\n",
       "      <td>1564753091</td>\n",
       "      <td>1.11</td>\n",
       "      <td>desktop</td>\n",
       "      <td>2016-11-24 14:56:23+00:00</td>\n",
       "      <td>9</td>\n",
       "      <td>2016-11-24</td>\n",
       "      <td>2016-11-24 14:53:35+00:00</td>\n",
       "      <td>2016-11</td>\n",
       "    </tr>\n",
       "  </tbody>\n",
       "</table>\n",
       "</div>"
      ],
      "text/plain": [
       "               buy_ts         uid  revenue   device                    end_ts  \\\n",
       "0 2016-07-23 19:13:54  3492372810     1.47    touch 2016-07-23 19:17:19+00:00   \n",
       "1 2016-07-23 19:13:54  3492372810     1.47  desktop 2017-04-18 15:24:04+00:00   \n",
       "2 2016-11-06 02:48:27  1564753091     1.11  desktop 2016-11-06 02:54:57+00:00   \n",
       "3 2016-11-06 02:48:27  1564753091     1.11  desktop 2016-11-06 01:43:14+00:00   \n",
       "4 2016-11-06 02:48:27  1564753091     1.11  desktop 2016-11-24 14:56:23+00:00   \n",
       "\n",
       "   source_id   start_dt                  start_ts cohort_month  \n",
       "0          4 2016-07-23 2016-07-23 19:10:57+00:00      2016-07  \n",
       "1          1 2017-04-18 2017-04-18 15:17:26+00:00      2016-07  \n",
       "2          5 2016-11-06 2016-11-06 02:38:06+00:00      2016-11  \n",
       "3          5 2016-11-06 2016-11-06 01:25:11+00:00      2016-11  \n",
       "4          9 2016-11-24 2016-11-24 14:53:35+00:00      2016-11  "
      ]
     },
     "execution_count": 14,
     "metadata": {},
     "output_type": "execute_result"
    }
   ],
   "source": [
    "#Шаг 3. Присоединяем  когорты (месяцы) к каждой покупке.\n",
    "\n",
    "table1_cohort = table1.merge(first_buy[['uid', 'cohort_month']], on='uid')\n",
    "\n",
    "#Выводим, чтобы просмотреть:\n",
    "table1_cohort.head()"
   ]
  },
  {
   "cell_type": "markdown",
   "id": "fc27923e-76cb-43d3-9db4-6b23829b264c",
   "metadata": {},
   "source": [
    "Когортный анализ: "
   ]
  },
  {
   "cell_type": "code",
   "execution_count": 15,
   "id": "121eb01b-be5f-4fc3-845d-8aa527452773",
   "metadata": {},
   "outputs": [
    {
     "name": "stdout",
     "output_type": "stream",
     "text": [
      "test: cohort_month\n",
      "2016-06    9005.433542\n",
      "2016-09     900.663934\n",
      "2016-08     580.072637\n",
      "2016-07     410.136413\n",
      "2017-03     198.301141\n",
      "2016-11     143.419334\n",
      "2016-12      93.084708\n",
      "2017-01      79.505334\n",
      "2016-10      65.718453\n",
      "2017-04      56.236267\n",
      "2017-02      35.148529\n",
      "2017-06      17.595000\n",
      "2017-05      16.761125\n",
      "Freq: M, Name: revenue, dtype: float64\n"
     ]
    }
   ],
   "source": [
    "#Шаг 1. Группируем по когорте и пользователю, считаем общий доход:\n",
    "\n",
    "\n",
    "#Сумма выручки по user:\n",
    "user_renevue = table1_cohort.groupby(['cohort_month', 'uid'])['revenue'].sum().reset_index()\n",
    "\n",
    "#Средняя выручка по когортам:\n",
    "cohort_avg_renevue = user_renevue.groupby('cohort_month')['revenue'].mean().sort_values(ascending=False)\n",
    "\n",
    "print('test:', cohort_avg_renevue)"
   ]
  },
  {
   "cell_type": "code",
   "execution_count": 16,
   "id": "465482fb-081c-44a8-96c9-2263c6417393",
   "metadata": {},
   "outputs": [
    {
     "name": "stdout",
     "output_type": "stream",
     "text": [
      "Лучшая когорта: 2016-06 : Когорты AVG Выручка: 9005.43354231975\n",
      "Худшая когорта: 2017-05 : Когорты AVG Выручка: 16.761124943413307\n"
     ]
    }
   ],
   "source": [
    "#Шаг 2. Определяем какая когорта пользователей (по месяцу первой покупки) принесла наибольший средний чек на пользователя, какая наименьший.\n",
    "\n",
    "WIN_cohort = cohort_avg_renevue.idxmax()\n",
    "LOSE_cohort = cohort_avg_renevue.idxmin()\n",
    "\n",
    "print('Лучшая когорта:', WIN_cohort,':','Когорты AVG Выручка:', cohort_avg_renevue.max())\n",
    "print('Худшая когорта:', LOSE_cohort,':','Когорты AVG Выручка:', cohort_avg_renevue.min())"
   ]
  },
  {
   "cell_type": "markdown",
   "id": "b8c196af-0ac3-47ad-9833-a98c4432d234",
   "metadata": {},
   "source": [
    "Приступаем ко второй задаче: \n",
    "```\n",
    "2)\tКакие аномалии в трафике видите, если они есть.\n",
    "```"
   ]
  },
  {
   "cell_type": "markdown",
   "id": "9206c429-db92-4eb4-b89f-4a53ec0f06ab",
   "metadata": {},
   "source": [
    "Аномалии в трафике:"
   ]
  },
  {
   "cell_type": "code",
   "execution_count": 17,
   "id": "a9471db8-8471-467e-91f1-78c6d13f83e7",
   "metadata": {},
   "outputs": [
    {
     "name": "stdout",
     "output_type": "stream",
     "text": [
      "<class 'pandas.core.frame.DataFrame'>\n",
      "RangeIndex: 5325086 entries, 0 to 5325085\n",
      "Data columns (total 9 columns):\n",
      " #   Column        Dtype              \n",
      "---  ------        -----              \n",
      " 0   buy_ts        datetime64[ns]     \n",
      " 1   uid           int64              \n",
      " 2   revenue       float64            \n",
      " 3   device        object             \n",
      " 4   end_ts        datetime64[ns, UTC]\n",
      " 5   source_id     int64              \n",
      " 6   start_dt      datetime64[ns]     \n",
      " 7   start_ts      datetime64[ns, UTC]\n",
      " 8   cohort_month  period[M]          \n",
      "dtypes: datetime64[ns, UTC](2), datetime64[ns](2), float64(1), int64(2), object(1), period[M](1)\n",
      "memory usage: 365.6+ MB\n"
     ]
    }
   ],
   "source": [
    "#Выводим информацию о таблице:\n",
    "table1_cohort.info()"
   ]
  },
  {
   "cell_type": "code",
   "execution_count": 18,
   "id": "c0c4bdd5-0dc8-40a2-8eb3-7ceb47bbdd92",
   "metadata": {},
   "outputs": [
    {
     "data": {
      "text/html": [
       "<div>\n",
       "<style scoped>\n",
       "    .dataframe tbody tr th:only-of-type {\n",
       "        vertical-align: middle;\n",
       "    }\n",
       "\n",
       "    .dataframe tbody tr th {\n",
       "        vertical-align: top;\n",
       "    }\n",
       "\n",
       "    .dataframe thead th {\n",
       "        text-align: right;\n",
       "    }\n",
       "</style>\n",
       "<table border=\"1\" class=\"dataframe\">\n",
       "  <thead>\n",
       "    <tr style=\"text-align: right;\">\n",
       "      <th></th>\n",
       "      <th>buy_ts</th>\n",
       "      <th>uid</th>\n",
       "      <th>revenue</th>\n",
       "      <th>device</th>\n",
       "      <th>end_ts</th>\n",
       "      <th>source_id</th>\n",
       "      <th>start_dt</th>\n",
       "      <th>start_ts</th>\n",
       "      <th>cohort_month</th>\n",
       "    </tr>\n",
       "  </thead>\n",
       "  <tbody>\n",
       "    <tr>\n",
       "      <th>0</th>\n",
       "      <td>2016-07-23 19:13:54</td>\n",
       "      <td>3492372810</td>\n",
       "      <td>1.47</td>\n",
       "      <td>touch</td>\n",
       "      <td>2016-07-23 19:17:19+00:00</td>\n",
       "      <td>4</td>\n",
       "      <td>2016-07-23</td>\n",
       "      <td>2016-07-23 19:10:57+00:00</td>\n",
       "      <td>2016-07</td>\n",
       "    </tr>\n",
       "    <tr>\n",
       "      <th>1</th>\n",
       "      <td>2016-07-23 19:13:54</td>\n",
       "      <td>3492372810</td>\n",
       "      <td>1.47</td>\n",
       "      <td>desktop</td>\n",
       "      <td>2017-04-18 15:24:04+00:00</td>\n",
       "      <td>1</td>\n",
       "      <td>2017-04-18</td>\n",
       "      <td>2017-04-18 15:17:26+00:00</td>\n",
       "      <td>2016-07</td>\n",
       "    </tr>\n",
       "    <tr>\n",
       "      <th>2</th>\n",
       "      <td>2016-11-06 02:48:27</td>\n",
       "      <td>1564753091</td>\n",
       "      <td>1.11</td>\n",
       "      <td>desktop</td>\n",
       "      <td>2016-11-06 02:54:57+00:00</td>\n",
       "      <td>5</td>\n",
       "      <td>2016-11-06</td>\n",
       "      <td>2016-11-06 02:38:06+00:00</td>\n",
       "      <td>2016-11</td>\n",
       "    </tr>\n",
       "    <tr>\n",
       "      <th>3</th>\n",
       "      <td>2016-11-06 02:48:27</td>\n",
       "      <td>1564753091</td>\n",
       "      <td>1.11</td>\n",
       "      <td>desktop</td>\n",
       "      <td>2016-11-06 01:43:14+00:00</td>\n",
       "      <td>5</td>\n",
       "      <td>2016-11-06</td>\n",
       "      <td>2016-11-06 01:25:11+00:00</td>\n",
       "      <td>2016-11</td>\n",
       "    </tr>\n",
       "    <tr>\n",
       "      <th>4</th>\n",
       "      <td>2016-11-06 02:48:27</td>\n",
       "      <td>1564753091</td>\n",
       "      <td>1.11</td>\n",
       "      <td>desktop</td>\n",
       "      <td>2016-11-24 14:56:23+00:00</td>\n",
       "      <td>9</td>\n",
       "      <td>2016-11-24</td>\n",
       "      <td>2016-11-24 14:53:35+00:00</td>\n",
       "      <td>2016-11</td>\n",
       "    </tr>\n",
       "  </tbody>\n",
       "</table>\n",
       "</div>"
      ],
      "text/plain": [
       "               buy_ts         uid  revenue   device                    end_ts  \\\n",
       "0 2016-07-23 19:13:54  3492372810     1.47    touch 2016-07-23 19:17:19+00:00   \n",
       "1 2016-07-23 19:13:54  3492372810     1.47  desktop 2017-04-18 15:24:04+00:00   \n",
       "2 2016-11-06 02:48:27  1564753091     1.11  desktop 2016-11-06 02:54:57+00:00   \n",
       "3 2016-11-06 02:48:27  1564753091     1.11  desktop 2016-11-06 01:43:14+00:00   \n",
       "4 2016-11-06 02:48:27  1564753091     1.11  desktop 2016-11-24 14:56:23+00:00   \n",
       "\n",
       "   source_id   start_dt                  start_ts cohort_month  \n",
       "0          4 2016-07-23 2016-07-23 19:10:57+00:00      2016-07  \n",
       "1          1 2017-04-18 2017-04-18 15:17:26+00:00      2016-07  \n",
       "2          5 2016-11-06 2016-11-06 02:38:06+00:00      2016-11  \n",
       "3          5 2016-11-06 2016-11-06 01:25:11+00:00      2016-11  \n",
       "4          9 2016-11-24 2016-11-24 14:53:35+00:00      2016-11  "
      ]
     },
     "execution_count": 18,
     "metadata": {},
     "output_type": "execute_result"
    }
   ],
   "source": [
    "#Напоминаем себе о структуре таблицы:\n",
    "table1_cohort.head()"
   ]
  },
  {
   "cell_type": "code",
   "execution_count": 47,
   "id": "0d7a1a72-aa5e-4872-af76-21a003be4ada",
   "metadata": {
    "scrolled": true
   },
   "outputs": [
    {
     "data": {
      "application/vnd.plotly.v1+json": {
       "config": {
        "plotlyServerURL": "https://plot.ly"
       },
       "data": [
        {
         "hovertemplate": "date=%{x}<br>visits=%{y}<extra></extra>",
         "legendgroup": "",
         "line": {
          "color": "#636efa",
          "dash": "solid"
         },
         "marker": {
          "symbol": "circle"
         },
         "mode": "lines",
         "name": "",
         "orientation": "v",
         "showlegend": false,
         "type": "scatter",
         "x": [
          "2016-06-01T00:00:00",
          "2016-06-02T00:00:00",
          "2016-06-03T00:00:00",
          "2016-06-04T00:00:00",
          "2016-06-05T00:00:00",
          "2016-06-06T00:00:00",
          "2016-06-07T00:00:00",
          "2016-06-08T00:00:00",
          "2016-06-09T00:00:00",
          "2016-06-10T00:00:00",
          "2016-06-11T00:00:00",
          "2016-06-12T00:00:00",
          "2016-06-13T00:00:00",
          "2016-06-14T00:00:00",
          "2016-06-15T00:00:00",
          "2016-06-16T00:00:00",
          "2016-06-17T00:00:00",
          "2016-06-18T00:00:00",
          "2016-06-19T00:00:00",
          "2016-06-20T00:00:00",
          "2016-06-21T00:00:00",
          "2016-06-22T00:00:00",
          "2016-06-23T00:00:00",
          "2016-06-24T00:00:00",
          "2016-06-25T00:00:00",
          "2016-06-26T00:00:00",
          "2016-06-27T00:00:00",
          "2016-06-28T00:00:00",
          "2016-06-29T00:00:00",
          "2016-06-30T00:00:00",
          "2016-07-01T00:00:00",
          "2016-07-02T00:00:00",
          "2016-07-03T00:00:00",
          "2016-07-04T00:00:00",
          "2016-07-05T00:00:00",
          "2016-07-06T00:00:00",
          "2016-07-07T00:00:00",
          "2016-07-08T00:00:00",
          "2016-07-09T00:00:00",
          "2016-07-10T00:00:00",
          "2016-07-11T00:00:00",
          "2016-07-12T00:00:00",
          "2016-07-13T00:00:00",
          "2016-07-14T00:00:00",
          "2016-07-15T00:00:00",
          "2016-07-16T00:00:00",
          "2016-07-17T00:00:00",
          "2016-07-18T00:00:00",
          "2016-07-19T00:00:00",
          "2016-07-20T00:00:00",
          "2016-07-21T00:00:00",
          "2016-07-22T00:00:00",
          "2016-07-23T00:00:00",
          "2016-07-24T00:00:00",
          "2016-07-25T00:00:00",
          "2016-07-26T00:00:00",
          "2016-07-27T00:00:00",
          "2016-07-28T00:00:00",
          "2016-07-29T00:00:00",
          "2016-07-30T00:00:00",
          "2016-07-31T00:00:00",
          "2016-08-01T00:00:00",
          "2016-08-02T00:00:00",
          "2016-08-03T00:00:00",
          "2016-08-04T00:00:00",
          "2016-08-05T00:00:00",
          "2016-08-06T00:00:00",
          "2016-08-07T00:00:00",
          "2016-08-08T00:00:00",
          "2016-08-09T00:00:00",
          "2016-08-10T00:00:00",
          "2016-08-11T00:00:00",
          "2016-08-12T00:00:00",
          "2016-08-13T00:00:00",
          "2016-08-14T00:00:00",
          "2016-08-15T00:00:00",
          "2016-08-16T00:00:00",
          "2016-08-17T00:00:00",
          "2016-08-18T00:00:00",
          "2016-08-19T00:00:00",
          "2016-08-20T00:00:00",
          "2016-08-21T00:00:00",
          "2016-08-22T00:00:00",
          "2016-08-23T00:00:00",
          "2016-08-24T00:00:00",
          "2016-08-25T00:00:00",
          "2016-08-26T00:00:00",
          "2016-08-27T00:00:00",
          "2016-08-28T00:00:00",
          "2016-08-29T00:00:00",
          "2016-08-30T00:00:00",
          "2016-08-31T00:00:00",
          "2016-09-01T00:00:00",
          "2016-09-02T00:00:00",
          "2016-09-03T00:00:00",
          "2016-09-04T00:00:00",
          "2016-09-05T00:00:00",
          "2016-09-06T00:00:00",
          "2016-09-07T00:00:00",
          "2016-09-08T00:00:00",
          "2016-09-09T00:00:00",
          "2016-09-10T00:00:00",
          "2016-09-11T00:00:00",
          "2016-09-12T00:00:00",
          "2016-09-13T00:00:00",
          "2016-09-14T00:00:00",
          "2016-09-15T00:00:00",
          "2016-09-16T00:00:00",
          "2016-09-17T00:00:00",
          "2016-09-18T00:00:00",
          "2016-09-19T00:00:00",
          "2016-09-20T00:00:00",
          "2016-09-21T00:00:00",
          "2016-09-22T00:00:00",
          "2016-09-23T00:00:00",
          "2016-09-24T00:00:00",
          "2016-09-25T00:00:00",
          "2016-09-26T00:00:00",
          "2016-09-27T00:00:00",
          "2016-09-28T00:00:00",
          "2016-09-29T00:00:00",
          "2016-09-30T00:00:00",
          "2016-10-01T00:00:00",
          "2016-10-02T00:00:00",
          "2016-10-03T00:00:00",
          "2016-10-04T00:00:00",
          "2016-10-05T00:00:00",
          "2016-10-06T00:00:00",
          "2016-10-07T00:00:00",
          "2016-10-08T00:00:00",
          "2016-10-09T00:00:00",
          "2016-10-10T00:00:00",
          "2016-10-11T00:00:00",
          "2016-10-12T00:00:00",
          "2016-10-13T00:00:00",
          "2016-10-14T00:00:00",
          "2016-10-15T00:00:00",
          "2016-10-16T00:00:00",
          "2016-10-17T00:00:00",
          "2016-10-18T00:00:00",
          "2016-10-19T00:00:00",
          "2016-10-20T00:00:00",
          "2016-10-21T00:00:00",
          "2016-10-22T00:00:00",
          "2016-10-23T00:00:00",
          "2016-10-24T00:00:00",
          "2016-10-25T00:00:00",
          "2016-10-26T00:00:00",
          "2016-10-27T00:00:00",
          "2016-10-28T00:00:00",
          "2016-10-29T00:00:00",
          "2016-10-30T00:00:00",
          "2016-10-31T00:00:00",
          "2016-11-01T00:00:00",
          "2016-11-02T00:00:00",
          "2016-11-03T00:00:00",
          "2016-11-04T00:00:00",
          "2016-11-05T00:00:00",
          "2016-11-06T00:00:00",
          "2016-11-07T00:00:00",
          "2016-11-08T00:00:00",
          "2016-11-09T00:00:00",
          "2016-11-10T00:00:00",
          "2016-11-11T00:00:00",
          "2016-11-12T00:00:00",
          "2016-11-13T00:00:00",
          "2016-11-14T00:00:00",
          "2016-11-15T00:00:00",
          "2016-11-16T00:00:00",
          "2016-11-17T00:00:00",
          "2016-11-18T00:00:00",
          "2016-11-19T00:00:00",
          "2016-11-20T00:00:00",
          "2016-11-21T00:00:00",
          "2016-11-22T00:00:00",
          "2016-11-23T00:00:00",
          "2016-11-24T00:00:00",
          "2016-11-25T00:00:00",
          "2016-11-26T00:00:00",
          "2016-11-27T00:00:00",
          "2016-11-28T00:00:00",
          "2016-11-29T00:00:00",
          "2016-11-30T00:00:00",
          "2016-12-01T00:00:00",
          "2016-12-02T00:00:00",
          "2016-12-03T00:00:00",
          "2016-12-04T00:00:00",
          "2016-12-05T00:00:00",
          "2016-12-06T00:00:00",
          "2016-12-07T00:00:00",
          "2016-12-08T00:00:00",
          "2016-12-09T00:00:00",
          "2016-12-10T00:00:00",
          "2016-12-11T00:00:00",
          "2016-12-12T00:00:00",
          "2016-12-13T00:00:00",
          "2016-12-14T00:00:00",
          "2016-12-15T00:00:00",
          "2016-12-16T00:00:00",
          "2016-12-17T00:00:00",
          "2016-12-18T00:00:00",
          "2016-12-19T00:00:00",
          "2016-12-20T00:00:00",
          "2016-12-21T00:00:00",
          "2016-12-22T00:00:00",
          "2016-12-23T00:00:00",
          "2016-12-24T00:00:00",
          "2016-12-25T00:00:00",
          "2016-12-26T00:00:00",
          "2016-12-27T00:00:00",
          "2016-12-28T00:00:00",
          "2016-12-29T00:00:00",
          "2016-12-30T00:00:00",
          "2016-12-31T00:00:00",
          "2017-01-01T00:00:00",
          "2017-01-02T00:00:00",
          "2017-01-03T00:00:00",
          "2017-01-04T00:00:00",
          "2017-01-05T00:00:00",
          "2017-01-06T00:00:00",
          "2017-01-07T00:00:00",
          "2017-01-08T00:00:00",
          "2017-01-09T00:00:00",
          "2017-01-10T00:00:00",
          "2017-01-11T00:00:00",
          "2017-01-12T00:00:00",
          "2017-01-13T00:00:00",
          "2017-01-14T00:00:00",
          "2017-01-15T00:00:00",
          "2017-01-16T00:00:00",
          "2017-01-17T00:00:00",
          "2017-01-18T00:00:00",
          "2017-01-19T00:00:00",
          "2017-01-20T00:00:00",
          "2017-01-21T00:00:00",
          "2017-01-22T00:00:00",
          "2017-01-23T00:00:00",
          "2017-01-24T00:00:00",
          "2017-01-25T00:00:00",
          "2017-01-26T00:00:00",
          "2017-01-27T00:00:00",
          "2017-01-28T00:00:00",
          "2017-01-29T00:00:00",
          "2017-01-30T00:00:00",
          "2017-01-31T00:00:00",
          "2017-02-01T00:00:00",
          "2017-02-02T00:00:00",
          "2017-02-03T00:00:00",
          "2017-02-04T00:00:00",
          "2017-02-05T00:00:00",
          "2017-02-06T00:00:00",
          "2017-02-07T00:00:00",
          "2017-02-08T00:00:00",
          "2017-02-09T00:00:00",
          "2017-02-10T00:00:00",
          "2017-02-11T00:00:00",
          "2017-02-12T00:00:00",
          "2017-02-13T00:00:00",
          "2017-02-14T00:00:00",
          "2017-02-15T00:00:00",
          "2017-02-16T00:00:00",
          "2017-02-17T00:00:00",
          "2017-02-18T00:00:00",
          "2017-02-19T00:00:00",
          "2017-02-20T00:00:00",
          "2017-02-21T00:00:00",
          "2017-02-22T00:00:00",
          "2017-02-23T00:00:00",
          "2017-02-24T00:00:00",
          "2017-02-25T00:00:00",
          "2017-02-26T00:00:00",
          "2017-02-27T00:00:00",
          "2017-02-28T00:00:00",
          "2017-03-01T00:00:00",
          "2017-03-02T00:00:00",
          "2017-03-03T00:00:00",
          "2017-03-04T00:00:00",
          "2017-03-05T00:00:00",
          "2017-03-06T00:00:00",
          "2017-03-07T00:00:00",
          "2017-03-08T00:00:00",
          "2017-03-09T00:00:00",
          "2017-03-10T00:00:00",
          "2017-03-11T00:00:00",
          "2017-03-12T00:00:00",
          "2017-03-13T00:00:00",
          "2017-03-14T00:00:00",
          "2017-03-15T00:00:00",
          "2017-03-16T00:00:00",
          "2017-03-17T00:00:00",
          "2017-03-18T00:00:00",
          "2017-03-19T00:00:00",
          "2017-03-20T00:00:00",
          "2017-03-21T00:00:00",
          "2017-03-22T00:00:00",
          "2017-03-23T00:00:00",
          "2017-03-24T00:00:00",
          "2017-03-25T00:00:00",
          "2017-03-26T00:00:00",
          "2017-03-27T00:00:00",
          "2017-03-28T00:00:00",
          "2017-03-29T00:00:00",
          "2017-03-30T00:00:00",
          "2017-04-02T00:00:00",
          "2017-04-03T00:00:00",
          "2017-04-04T00:00:00",
          "2017-04-05T00:00:00",
          "2017-04-06T00:00:00",
          "2017-04-07T00:00:00",
          "2017-04-08T00:00:00",
          "2017-04-09T00:00:00",
          "2017-04-10T00:00:00",
          "2017-04-11T00:00:00",
          "2017-04-12T00:00:00",
          "2017-04-13T00:00:00",
          "2017-04-14T00:00:00",
          "2017-04-15T00:00:00",
          "2017-04-16T00:00:00",
          "2017-04-17T00:00:00",
          "2017-04-18T00:00:00",
          "2017-04-19T00:00:00",
          "2017-04-20T00:00:00",
          "2017-04-21T00:00:00",
          "2017-04-22T00:00:00",
          "2017-04-23T00:00:00",
          "2017-04-24T00:00:00",
          "2017-04-25T00:00:00",
          "2017-04-26T00:00:00",
          "2017-04-27T00:00:00",
          "2017-04-28T00:00:00",
          "2017-04-29T00:00:00",
          "2017-04-30T00:00:00",
          "2017-05-01T00:00:00",
          "2017-05-02T00:00:00",
          "2017-05-03T00:00:00",
          "2017-05-04T00:00:00",
          "2017-05-05T00:00:00",
          "2017-05-06T00:00:00",
          "2017-05-07T00:00:00",
          "2017-05-08T00:00:00",
          "2017-05-09T00:00:00",
          "2017-05-10T00:00:00",
          "2017-05-11T00:00:00",
          "2017-05-12T00:00:00",
          "2017-05-13T00:00:00",
          "2017-05-14T00:00:00",
          "2017-05-15T00:00:00",
          "2017-05-16T00:00:00",
          "2017-05-17T00:00:00",
          "2017-05-18T00:00:00",
          "2017-05-19T00:00:00",
          "2017-05-20T00:00:00",
          "2017-05-21T00:00:00",
          "2017-05-22T00:00:00",
          "2017-05-23T00:00:00",
          "2017-05-24T00:00:00",
          "2017-05-25T00:00:00",
          "2017-05-26T00:00:00",
          "2017-05-27T00:00:00",
          "2017-05-28T00:00:00",
          "2017-05-29T00:00:00",
          "2017-05-30T00:00:00",
          "2017-05-31T00:00:00"
         ],
         "xaxis": "x",
         "y": {
          "bdata": "bQwAAOATAAAbCAAAEAsAAIAWAACfFwAAqw8AANsVAACTDwAAgQgAAAsDAABlBwAAPBYAAGUIAACMBQAAJwcAAJACAACKAwAA9AQAAAAHAADQBAAAVAkAAP0IAAB4DQAAxgkAAFwUAADDFAAAmBIAAGkKAACnBwAAOgcAABMOAABEDQAAOg4AAHwLAADADgAAERAAAKIKAAC2BAAAygwAABIPAACRGAAAiBMAAPgTAADQEgAAmAgAABUNAAANEwAA9BEAABIGAAD+BwAAlggAAPMHAABYEwAAxgcAALUGAAAcBwAA7w4AAHEEAAAYBAAAfgsAAFcWAADKCAAAFAkAAA0XAADiEAAA/RUAAK0JAAAdDQAAuw0AANkIAABEEwAA4QIAAIgDAABqDQAANAoAAIQLAAC7EAAAHQoAAM8EAACkAwAAKRMAAPYVAAA7JQAAHRYAAHwRAAAJEQAA6A8AAHkWAADENwAATCYAAEoeAADSJgAAHSMAADYoAAA1FgAATUIAAFlAAAALGAAANicAAOEWAADSEQAAU04AABpfAAB7TQAAgzEAAMYnAAAGDgAAOhsAALIyAADvLAAAKjkAAN5eAACVUQAA3DIAADQmAACgOwAALkIAAGBVAABCQQAAHUEAAI4iAABsGAAAuzsAACJJAADCTwAAmk0AAF5AAAAWUQAAkSkAAEJPAAD7PgAAi14AANRzAAByRwAA6BMAAJ8tAAChUQAAmioAAHpAAABtWwAADkEAAHM0AADJFQAA7WYAACJQAAAJWgAATmkAAKJIAABzGgAAmyAAAHpzAACCSwAApVsAAMBtAAC4XgAARzsAAIIPAAA5LgAAeUkAAANXAADVOgAAUSYAAE0cAADfCgAAXG4AAJhTAAD1aQAAymUAAAxzAADmJAAAlkcAAJVaAACZbQAAN1gAABQuAADreQAAIWgAACU2AAA2aQAAsFcAAJpSAAB0WQAAnj0AAHI3AAAcPQAA5m4AAK9oAAA/cwAAvEAAABQ/AADhMwAAyi4AAIRNAAA/ZQAABnoAAFlbAADYOwAAHhgAAPUUAACRTgAAI4AAAK1TAAA0bAAA5X8AANowAADTIAAAZXIAAHuRAABXdgAAsV8AALF2AAA5PQAACSgAAGAEAACOQQAAHkkAAO5vAAByVAAA6C4AAN83AABYMwAA8jkAACo5AACKPgAA0oIAAMdiAABCXQAAr20AAL1RAACbhgAApZIAAGF5AAAeQwAAVWwAAK17AADgcgAAnHwAAGVbAADeTAAADFQAANQ4AADaUQAAbEsAAHVwAAAVWwAAD3IAABw8AACOXgAAeIkAABZkAABeXwAAgUAAAKKtAADobwAAPSQAAEOFAACwhwAAX44AAJd9AACPcgAAAjsAAHp8AAClmgAAqnwAAFt3AAAwewAA5msAAK12AADwJQAALq4AALiaAAD8uwAAVZgAAAqHAADRSAAAC2QAAMSoAAAPjgAAtJEAAINmAAAqSQAAl08AAEUfAACFUQAA40wAAGNgAAASbAAAB2QAAGpeAAAqQAAA0oIAABVmAADQSQAAM1kAAItsAAC/NgAA2lkAAEJmAACpQwAAOFQAAD5EAAC/AgAAjTMAACJDAAAdOQAAd0MAAJpAAADAHQAAJioAANs9AAB9UwAA5zkAAHA8AAA1NwAAbjEAAFoeAABnNAAAPikAALIyAADwIgAAF0AAAGgYAADVFgAAMR0AAM8pAAAXHQAAsDIAAN0UAABzHQAAuA4AAIkaAABdFwAAvQoAACkfAACJHgAAQhAAAMQQAADWNQAATTMAAEURAAB2IQAAwyUAALUiAAC1EQAAhjIAALMtAAC1KwAApyUAAAEpAADrGAAAVhMAABsjAAACHAAAVSYAAJEcAABvIgAApQwAAJ4NAAAIGAAAOx4AAAArAACqMwAA",
          "dtype": "i4"
         },
         "yaxis": "y"
        }
       ],
       "layout": {
        "legend": {
         "tracegroupgap": 0
        },
        "margin": {
         "t": 60
        },
        "template": {
         "data": {
          "bar": [
           {
            "error_x": {
             "color": "#2a3f5f"
            },
            "error_y": {
             "color": "#2a3f5f"
            },
            "marker": {
             "line": {
              "color": "#E5ECF6",
              "width": 0.5
             },
             "pattern": {
              "fillmode": "overlay",
              "size": 10,
              "solidity": 0.2
             }
            },
            "type": "bar"
           }
          ],
          "barpolar": [
           {
            "marker": {
             "line": {
              "color": "#E5ECF6",
              "width": 0.5
             },
             "pattern": {
              "fillmode": "overlay",
              "size": 10,
              "solidity": 0.2
             }
            },
            "type": "barpolar"
           }
          ],
          "carpet": [
           {
            "aaxis": {
             "endlinecolor": "#2a3f5f",
             "gridcolor": "white",
             "linecolor": "white",
             "minorgridcolor": "white",
             "startlinecolor": "#2a3f5f"
            },
            "baxis": {
             "endlinecolor": "#2a3f5f",
             "gridcolor": "white",
             "linecolor": "white",
             "minorgridcolor": "white",
             "startlinecolor": "#2a3f5f"
            },
            "type": "carpet"
           }
          ],
          "choropleth": [
           {
            "colorbar": {
             "outlinewidth": 0,
             "ticks": ""
            },
            "type": "choropleth"
           }
          ],
          "contour": [
           {
            "colorbar": {
             "outlinewidth": 0,
             "ticks": ""
            },
            "colorscale": [
             [
              0,
              "#0d0887"
             ],
             [
              0.1111111111111111,
              "#46039f"
             ],
             [
              0.2222222222222222,
              "#7201a8"
             ],
             [
              0.3333333333333333,
              "#9c179e"
             ],
             [
              0.4444444444444444,
              "#bd3786"
             ],
             [
              0.5555555555555556,
              "#d8576b"
             ],
             [
              0.6666666666666666,
              "#ed7953"
             ],
             [
              0.7777777777777778,
              "#fb9f3a"
             ],
             [
              0.8888888888888888,
              "#fdca26"
             ],
             [
              1,
              "#f0f921"
             ]
            ],
            "type": "contour"
           }
          ],
          "contourcarpet": [
           {
            "colorbar": {
             "outlinewidth": 0,
             "ticks": ""
            },
            "type": "contourcarpet"
           }
          ],
          "heatmap": [
           {
            "colorbar": {
             "outlinewidth": 0,
             "ticks": ""
            },
            "colorscale": [
             [
              0,
              "#0d0887"
             ],
             [
              0.1111111111111111,
              "#46039f"
             ],
             [
              0.2222222222222222,
              "#7201a8"
             ],
             [
              0.3333333333333333,
              "#9c179e"
             ],
             [
              0.4444444444444444,
              "#bd3786"
             ],
             [
              0.5555555555555556,
              "#d8576b"
             ],
             [
              0.6666666666666666,
              "#ed7953"
             ],
             [
              0.7777777777777778,
              "#fb9f3a"
             ],
             [
              0.8888888888888888,
              "#fdca26"
             ],
             [
              1,
              "#f0f921"
             ]
            ],
            "type": "heatmap"
           }
          ],
          "histogram": [
           {
            "marker": {
             "pattern": {
              "fillmode": "overlay",
              "size": 10,
              "solidity": 0.2
             }
            },
            "type": "histogram"
           }
          ],
          "histogram2d": [
           {
            "colorbar": {
             "outlinewidth": 0,
             "ticks": ""
            },
            "colorscale": [
             [
              0,
              "#0d0887"
             ],
             [
              0.1111111111111111,
              "#46039f"
             ],
             [
              0.2222222222222222,
              "#7201a8"
             ],
             [
              0.3333333333333333,
              "#9c179e"
             ],
             [
              0.4444444444444444,
              "#bd3786"
             ],
             [
              0.5555555555555556,
              "#d8576b"
             ],
             [
              0.6666666666666666,
              "#ed7953"
             ],
             [
              0.7777777777777778,
              "#fb9f3a"
             ],
             [
              0.8888888888888888,
              "#fdca26"
             ],
             [
              1,
              "#f0f921"
             ]
            ],
            "type": "histogram2d"
           }
          ],
          "histogram2dcontour": [
           {
            "colorbar": {
             "outlinewidth": 0,
             "ticks": ""
            },
            "colorscale": [
             [
              0,
              "#0d0887"
             ],
             [
              0.1111111111111111,
              "#46039f"
             ],
             [
              0.2222222222222222,
              "#7201a8"
             ],
             [
              0.3333333333333333,
              "#9c179e"
             ],
             [
              0.4444444444444444,
              "#bd3786"
             ],
             [
              0.5555555555555556,
              "#d8576b"
             ],
             [
              0.6666666666666666,
              "#ed7953"
             ],
             [
              0.7777777777777778,
              "#fb9f3a"
             ],
             [
              0.8888888888888888,
              "#fdca26"
             ],
             [
              1,
              "#f0f921"
             ]
            ],
            "type": "histogram2dcontour"
           }
          ],
          "mesh3d": [
           {
            "colorbar": {
             "outlinewidth": 0,
             "ticks": ""
            },
            "type": "mesh3d"
           }
          ],
          "parcoords": [
           {
            "line": {
             "colorbar": {
              "outlinewidth": 0,
              "ticks": ""
             }
            },
            "type": "parcoords"
           }
          ],
          "pie": [
           {
            "automargin": true,
            "type": "pie"
           }
          ],
          "scatter": [
           {
            "fillpattern": {
             "fillmode": "overlay",
             "size": 10,
             "solidity": 0.2
            },
            "type": "scatter"
           }
          ],
          "scatter3d": [
           {
            "line": {
             "colorbar": {
              "outlinewidth": 0,
              "ticks": ""
             }
            },
            "marker": {
             "colorbar": {
              "outlinewidth": 0,
              "ticks": ""
             }
            },
            "type": "scatter3d"
           }
          ],
          "scattercarpet": [
           {
            "marker": {
             "colorbar": {
              "outlinewidth": 0,
              "ticks": ""
             }
            },
            "type": "scattercarpet"
           }
          ],
          "scattergeo": [
           {
            "marker": {
             "colorbar": {
              "outlinewidth": 0,
              "ticks": ""
             }
            },
            "type": "scattergeo"
           }
          ],
          "scattergl": [
           {
            "marker": {
             "colorbar": {
              "outlinewidth": 0,
              "ticks": ""
             }
            },
            "type": "scattergl"
           }
          ],
          "scattermap": [
           {
            "marker": {
             "colorbar": {
              "outlinewidth": 0,
              "ticks": ""
             }
            },
            "type": "scattermap"
           }
          ],
          "scattermapbox": [
           {
            "marker": {
             "colorbar": {
              "outlinewidth": 0,
              "ticks": ""
             }
            },
            "type": "scattermapbox"
           }
          ],
          "scatterpolar": [
           {
            "marker": {
             "colorbar": {
              "outlinewidth": 0,
              "ticks": ""
             }
            },
            "type": "scatterpolar"
           }
          ],
          "scatterpolargl": [
           {
            "marker": {
             "colorbar": {
              "outlinewidth": 0,
              "ticks": ""
             }
            },
            "type": "scatterpolargl"
           }
          ],
          "scatterternary": [
           {
            "marker": {
             "colorbar": {
              "outlinewidth": 0,
              "ticks": ""
             }
            },
            "type": "scatterternary"
           }
          ],
          "surface": [
           {
            "colorbar": {
             "outlinewidth": 0,
             "ticks": ""
            },
            "colorscale": [
             [
              0,
              "#0d0887"
             ],
             [
              0.1111111111111111,
              "#46039f"
             ],
             [
              0.2222222222222222,
              "#7201a8"
             ],
             [
              0.3333333333333333,
              "#9c179e"
             ],
             [
              0.4444444444444444,
              "#bd3786"
             ],
             [
              0.5555555555555556,
              "#d8576b"
             ],
             [
              0.6666666666666666,
              "#ed7953"
             ],
             [
              0.7777777777777778,
              "#fb9f3a"
             ],
             [
              0.8888888888888888,
              "#fdca26"
             ],
             [
              1,
              "#f0f921"
             ]
            ],
            "type": "surface"
           }
          ],
          "table": [
           {
            "cells": {
             "fill": {
              "color": "#EBF0F8"
             },
             "line": {
              "color": "white"
             }
            },
            "header": {
             "fill": {
              "color": "#C8D4E3"
             },
             "line": {
              "color": "white"
             }
            },
            "type": "table"
           }
          ]
         },
         "layout": {
          "annotationdefaults": {
           "arrowcolor": "#2a3f5f",
           "arrowhead": 0,
           "arrowwidth": 1
          },
          "autotypenumbers": "strict",
          "coloraxis": {
           "colorbar": {
            "outlinewidth": 0,
            "ticks": ""
           }
          },
          "colorscale": {
           "diverging": [
            [
             0,
             "#8e0152"
            ],
            [
             0.1,
             "#c51b7d"
            ],
            [
             0.2,
             "#de77ae"
            ],
            [
             0.3,
             "#f1b6da"
            ],
            [
             0.4,
             "#fde0ef"
            ],
            [
             0.5,
             "#f7f7f7"
            ],
            [
             0.6,
             "#e6f5d0"
            ],
            [
             0.7,
             "#b8e186"
            ],
            [
             0.8,
             "#7fbc41"
            ],
            [
             0.9,
             "#4d9221"
            ],
            [
             1,
             "#276419"
            ]
           ],
           "sequential": [
            [
             0,
             "#0d0887"
            ],
            [
             0.1111111111111111,
             "#46039f"
            ],
            [
             0.2222222222222222,
             "#7201a8"
            ],
            [
             0.3333333333333333,
             "#9c179e"
            ],
            [
             0.4444444444444444,
             "#bd3786"
            ],
            [
             0.5555555555555556,
             "#d8576b"
            ],
            [
             0.6666666666666666,
             "#ed7953"
            ],
            [
             0.7777777777777778,
             "#fb9f3a"
            ],
            [
             0.8888888888888888,
             "#fdca26"
            ],
            [
             1,
             "#f0f921"
            ]
           ],
           "sequentialminus": [
            [
             0,
             "#0d0887"
            ],
            [
             0.1111111111111111,
             "#46039f"
            ],
            [
             0.2222222222222222,
             "#7201a8"
            ],
            [
             0.3333333333333333,
             "#9c179e"
            ],
            [
             0.4444444444444444,
             "#bd3786"
            ],
            [
             0.5555555555555556,
             "#d8576b"
            ],
            [
             0.6666666666666666,
             "#ed7953"
            ],
            [
             0.7777777777777778,
             "#fb9f3a"
            ],
            [
             0.8888888888888888,
             "#fdca26"
            ],
            [
             1,
             "#f0f921"
            ]
           ]
          },
          "colorway": [
           "#636efa",
           "#EF553B",
           "#00cc96",
           "#ab63fa",
           "#FFA15A",
           "#19d3f3",
           "#FF6692",
           "#B6E880",
           "#FF97FF",
           "#FECB52"
          ],
          "font": {
           "color": "#2a3f5f"
          },
          "geo": {
           "bgcolor": "white",
           "lakecolor": "white",
           "landcolor": "#E5ECF6",
           "showlakes": true,
           "showland": true,
           "subunitcolor": "white"
          },
          "hoverlabel": {
           "align": "left"
          },
          "hovermode": "closest",
          "mapbox": {
           "style": "light"
          },
          "paper_bgcolor": "white",
          "plot_bgcolor": "#E5ECF6",
          "polar": {
           "angularaxis": {
            "gridcolor": "white",
            "linecolor": "white",
            "ticks": ""
           },
           "bgcolor": "#E5ECF6",
           "radialaxis": {
            "gridcolor": "white",
            "linecolor": "white",
            "ticks": ""
           }
          },
          "scene": {
           "xaxis": {
            "backgroundcolor": "#E5ECF6",
            "gridcolor": "white",
            "gridwidth": 2,
            "linecolor": "white",
            "showbackground": true,
            "ticks": "",
            "zerolinecolor": "white"
           },
           "yaxis": {
            "backgroundcolor": "#E5ECF6",
            "gridcolor": "white",
            "gridwidth": 2,
            "linecolor": "white",
            "showbackground": true,
            "ticks": "",
            "zerolinecolor": "white"
           },
           "zaxis": {
            "backgroundcolor": "#E5ECF6",
            "gridcolor": "white",
            "gridwidth": 2,
            "linecolor": "white",
            "showbackground": true,
            "ticks": "",
            "zerolinecolor": "white"
           }
          },
          "shapedefaults": {
           "line": {
            "color": "#2a3f5f"
           }
          },
          "ternary": {
           "aaxis": {
            "gridcolor": "white",
            "linecolor": "white",
            "ticks": ""
           },
           "baxis": {
            "gridcolor": "white",
            "linecolor": "white",
            "ticks": ""
           },
           "bgcolor": "#E5ECF6",
           "caxis": {
            "gridcolor": "white",
            "linecolor": "white",
            "ticks": ""
           }
          },
          "title": {
           "x": 0.05
          },
          "xaxis": {
           "automargin": true,
           "gridcolor": "white",
           "linecolor": "white",
           "ticks": "",
           "title": {
            "standoff": 15
           },
           "zerolinecolor": "white",
           "zerolinewidth": 2
          },
          "yaxis": {
           "automargin": true,
           "gridcolor": "white",
           "linecolor": "white",
           "ticks": "",
           "title": {
            "standoff": 15
           },
           "zerolinecolor": "white",
           "zerolinewidth": 2
          }
         }
        },
        "xaxis": {
         "anchor": "y",
         "domain": [
          0,
          1
         ],
         "dtick": "M1",
         "title": {
          "text": "date"
         }
        },
        "yaxis": {
         "anchor": "x",
         "domain": [
          0,
          1
         ],
         "title": {
          "text": "visits"
         }
        }
       }
      },
      "image/png": "[encoded data removed]"
     },
     "metadata": {},
     "output_type": "display_data"
    }
   ],
   "source": [
    "#Выведем сначала график для наглядности:\n",
    "\n",
    "visits = table1_cohort.groupby('start_dt').size().reset_index()\n",
    "visits.columns = ['date', 'visits']\n",
    "fig = px.line(visits, x='date', y='visits')\n",
    "fig.update_xaxes(dtick=\"M1\")\n",
    "fig.show()"
   ]
  },
  {
   "cell_type": "markdown",
   "id": "7886109d-7306-4c04-8d96-8d113ce4f0e6",
   "metadata": {},
   "source": [
    "Перед началом анализа на аномалии запишем вводные и несколько гипотез:\n",
    "```\n",
    "Вводные:\n",
    "-У нас два входа по device: desktop/touch.\n",
    "-У нас несколько id источника визита (от 1 до 10).\n",
    "-У нас start_ts — дата и время старта визита(как доп. start_dt — дата старта визита), \n",
    "       end_ts — дата окончания визита.\n",
    "-У нас есть buy_ts — дата и время покупки.\n",
    "```\n",
    "```\n",
    "Гипотезы:\n",
    "-Появления приложения, предположим, что это touch, повысило трафик. \n",
    "-Какие-то из источников создают аномальный прирост трафика, чем другие. \n",
    "-Влияние сезонности прироста трафика, по текущим данным(Cезонность, возможно праздничные дни.).\n",
    "```"
   ]
  },
  {
   "cell_type": "markdown",
   "id": "e7214c89-fda3-43dc-9c8e-03623379305d",
   "metadata": {},
   "source": [
    "Сначала поймем, что такое аномальный трафик, тут:"
   ]
  }
 ],
 "metadata": {
  "kernelspec": {
   "display_name": "Python 3 (ipykernel)",
   "language": "python",
   "name": "python3"
  },
  "language_info": {
   "codemirror_mode": {
    "name": "ipython",
    "version": 3
   },
   "file_extension": ".py",
   "mimetype": "text/x-python",
   "name": "python",
   "nbconvert_exporter": "python",
   "pygments_lexer": "ipython3",
   "version": "3.13.3"
  }
 },
 "nbformat": 4,
 "nbformat_minor": 5
}
