{
 "cells": [
  {
   "cell_type": "code",
   "execution_count": null,
   "id": "be63f17f-857c-4c70-b39b-137daed44b9f",
   "metadata": {},
   "outputs": [],
   "source": [
    "#Гипотеза 1:\n",
    "\n",
    "#Появления приложения повысило трафик. \n",
    "\n",
    "visits = table1_cohort.groupby(['start_dt', 'device']).size().reset_index(name='visits')\n",
    "visits.columns = ['date', 'device', 'visits']\n",
    "fig = px.line(visits, x='date', y='visits', color='device', title='Визиты по устройствам')\n",
    "fig.update_xaxes(dtick=\"M1\")\n",
    "fig.show()"
   ]
  }
 ],
 "metadata": {
  "kernelspec": {
   "display_name": "Python 3 (ipykernel)",
   "language": "python",
   "name": "python3"
  },
  "language_info": {
   "codemirror_mode": {
    "name": "ipython",
    "version": 3
   },
   "file_extension": ".py",
   "mimetype": "text/x-python",
   "name": "python",
   "nbconvert_exporter": "python",
   "pygments_lexer": "ipython3",
   "version": "3.13.3"
  }
 },
 "nbformat": 4,
 "nbformat_minor": 5
}
