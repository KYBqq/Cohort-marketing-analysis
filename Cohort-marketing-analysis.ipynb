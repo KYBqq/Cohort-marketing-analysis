{
 "cells": [
  {
   "cell_type": "markdown",
   "id": "c8b8cce8-490f-4ff4-b8cd-3a24927f184a",
   "metadata": {},
   "source": [
    "Есть два набора данных (во вложении): визиты пользователей на сервис и данные по покупкам. У каждого визита есть источник, а также устройство, с которого заходил пользователь.\n",
    "\n",
    "purchases – покупки. \n",
    "visits – визиты. \n",
    "```\n",
    "Обозначения в файлах:\n",
    "start_dt — дата старта визита,\n",
    "start_ts — дата и время старта визита,\n",
    "end_ts — дата окончания визита,\n",
    "uid — идентификатор пользователя,\n",
    "source_id — id источника визита,\n",
    "device — устройство,\n",
    "buy_ts — дата и время покупки,\n",
    "revenue — доход в y.e.\n",
    "```\n",
    "```\n",
    "Необходимо определить:\n",
    "\n",
    "1)\tКакая когорта пользователей (по месяцу первой покупки) принесла наибольший средний чек на пользователя, какая наименьший.\n",
    "2)\tКакие аномалии в трафике видите, если они есть.\n",
    "3)\tКакой LTV на каждую когорту пользователей (по месяцу первой покупки)?\n",
    "4)\tС какого source_id мы получили больший доход помесячно, учитывая, что покупку относим к id источника последнего перед покупкой визита.\n",
    "```\n",
    "\n",
    "Просьба написать sql-запросы и визуализировать данные с помощью любого инструмента.\n"
   ]
  },
  {
   "cell_type": "code",
   "execution_count": 2,
   "id": "c92f56ff-e4e0-42fb-ba40-5ca4621918e0",
   "metadata": {},
   "outputs": [],
   "source": [
    "import pandas as pd"
   ]
  },
  {
   "cell_type": "code",
   "execution_count": 3,
   "id": "a79f42ae-cbdb-44fa-b905-be988417fe3e",
   "metadata": {},
   "outputs": [],
   "source": [
    "df1p = pd.read_excel('Источники переделанные в excel/purchases.xlsx')\n",
    "df2v = pd.read_excel('Источники переделанные в excel/visits.xlsx')"
   ]
  },
  {
   "cell_type": "code",
   "execution_count": 25,
   "id": "3c6f9826-1572-48f4-9f82-ba370c811f94",
   "metadata": {},
   "outputs": [
    {
     "name": "stdout",
     "output_type": "stream",
     "text": [
      "<class 'pandas.core.frame.DataFrame'>\n",
      "RangeIndex: 75716 entries, 0 to 75715\n",
      "Data columns (total 3 columns):\n",
      " #   Column   Non-Null Count  Dtype         \n",
      "---  ------   --------------  -----         \n",
      " 0   buy_ts   75716 non-null  datetime64[ns]\n",
      " 1   uid      75716 non-null  int64         \n",
      " 2   revenue  75716 non-null  float64       \n",
      "dtypes: datetime64[ns](1), float64(1), int64(1)\n",
      "memory usage: 1.7 MB\n",
      "<class 'pandas.core.frame.DataFrame'>\n",
      "RangeIndex: 720679 entries, 0 to 720678\n",
      "Data columns (total 6 columns):\n",
      " #   Column     Non-Null Count   Dtype         \n",
      "---  ------     --------------   -----         \n",
      " 0   device     720679 non-null  object        \n",
      " 1   end_ts     720679 non-null  object        \n",
      " 2   source_id  720679 non-null  int64         \n",
      " 3   start_dt   720679 non-null  datetime64[ns]\n",
      " 4   start_ts   720679 non-null  object        \n",
      " 5   uid        720679 non-null  int64         \n",
      "dtypes: datetime64[ns](1), int64(2), object(3)\n",
      "memory usage: 33.0+ MB\n"
     ]
    }
   ],
   "source": [
    "#Просмотр типов данных: \n",
    "df1p.info()\n",
    "df2v.info()"
   ]
  },
  {
   "cell_type": "code",
   "execution_count": 27,
   "id": "83105b80-9510-4c19-80f7-d06ec23a7452",
   "metadata": {},
   "outputs": [
    {
     "data": {
      "text/html": [
       "<div>\n",
       "<style scoped>\n",
       "    .dataframe tbody tr th:only-of-type {\n",
       "        vertical-align: middle;\n",
       "    }\n",
       "\n",
       "    .dataframe tbody tr th {\n",
       "        vertical-align: top;\n",
       "    }\n",
       "\n",
       "    .dataframe thead th {\n",
       "        text-align: right;\n",
       "    }\n",
       "</style>\n",
       "<table border=\"1\" class=\"dataframe\">\n",
       "  <thead>\n",
       "    <tr style=\"text-align: right;\">\n",
       "      <th></th>\n",
       "      <th>device</th>\n",
       "      <th>end_ts</th>\n",
       "      <th>source_id</th>\n",
       "      <th>start_dt</th>\n",
       "      <th>start_ts</th>\n",
       "      <th>uid</th>\n",
       "    </tr>\n",
       "  </thead>\n",
       "  <tbody>\n",
       "    <tr>\n",
       "      <th>0</th>\n",
       "      <td>desktop</td>\n",
       "      <td>2016-11-30T11:04:17Z</td>\n",
       "      <td>2</td>\n",
       "      <td>2016-11-30</td>\n",
       "      <td>2016-11-30T10:53:49Z</td>\n",
       "      <td>3758486201</td>\n",
       "    </tr>\n",
       "    <tr>\n",
       "      <th>1</th>\n",
       "      <td>desktop</td>\n",
       "      <td>2016-11-10T23:16:57Z</td>\n",
       "      <td>4</td>\n",
       "      <td>2016-11-10</td>\n",
       "      <td>2016-11-10T23:08:04Z</td>\n",
       "      <td>2933941628</td>\n",
       "    </tr>\n",
       "    <tr>\n",
       "      <th>2</th>\n",
       "      <td>desktop</td>\n",
       "      <td>2016-10-19T18:51:56Z</td>\n",
       "      <td>1</td>\n",
       "      <td>2016-10-19</td>\n",
       "      <td>2016-10-19T18:48:16Z</td>\n",
       "      <td>1465872791</td>\n",
       "    </tr>\n",
       "    <tr>\n",
       "      <th>3</th>\n",
       "      <td>desktop</td>\n",
       "      <td>2017-01-12T20:51:55Z</td>\n",
       "      <td>9</td>\n",
       "      <td>2017-01-12</td>\n",
       "      <td>2017-01-12T20:50:10Z</td>\n",
       "      <td>2751875787</td>\n",
       "    </tr>\n",
       "    <tr>\n",
       "      <th>4</th>\n",
       "      <td>touch</td>\n",
       "      <td>2016-07-23T19:17:19Z</td>\n",
       "      <td>4</td>\n",
       "      <td>2016-07-23</td>\n",
       "      <td>2016-07-23T19:10:57Z</td>\n",
       "      <td>3492372810</td>\n",
       "    </tr>\n",
       "  </tbody>\n",
       "</table>\n",
       "</div>"
      ],
      "text/plain": [
       "    device                end_ts  source_id   start_dt              start_ts  \\\n",
       "0  desktop  2016-11-30T11:04:17Z          2 2016-11-30  2016-11-30T10:53:49Z   \n",
       "1  desktop  2016-11-10T23:16:57Z          4 2016-11-10  2016-11-10T23:08:04Z   \n",
       "2  desktop  2016-10-19T18:51:56Z          1 2016-10-19  2016-10-19T18:48:16Z   \n",
       "3  desktop  2017-01-12T20:51:55Z          9 2017-01-12  2017-01-12T20:50:10Z   \n",
       "4    touch  2016-07-23T19:17:19Z          4 2016-07-23  2016-07-23T19:10:57Z   \n",
       "\n",
       "          uid  \n",
       "0  3758486201  \n",
       "1  2933941628  \n",
       "2  1465872791  \n",
       "3  2751875787  \n",
       "4  3492372810  "
      ]
     },
     "execution_count": 27,
     "metadata": {},
     "output_type": "execute_result"
    }
   ],
   "source": [
    "#Просмотр дат в визитах:\n",
    "df2v.head()"
   ]
  },
  {
   "cell_type": "code",
   "execution_count": 29,
   "id": "7c230faa-e345-43c9-857f-dcfb604f2896",
   "metadata": {},
   "outputs": [],
   "source": [
    "#Форматирование к одному формату данных: \n",
    "\n",
    "df2v['start_ts'] = pd.to_datetime(df2v['start_ts'])\n",
    "df2v['end_ts'] = pd.to_datetime(df2v['end_ts'])"
   ]
  },
  {
   "cell_type": "code",
   "execution_count": 37,
   "id": "bf67a767-345c-4356-931a-1465d3600181",
   "metadata": {},
   "outputs": [
    {
     "name": "stdout",
     "output_type": "stream",
     "text": [
      "<class 'pandas.core.frame.DataFrame'>\n",
      "RangeIndex: 75716 entries, 0 to 75715\n",
      "Data columns (total 3 columns):\n",
      " #   Column   Non-Null Count  Dtype         \n",
      "---  ------   --------------  -----         \n",
      " 0   buy_ts   75716 non-null  datetime64[ns]\n",
      " 1   uid      75716 non-null  int64         \n",
      " 2   revenue  75716 non-null  float64       \n",
      "dtypes: datetime64[ns](1), float64(1), int64(1)\n",
      "memory usage: 1.7 MB\n",
      "<class 'pandas.core.frame.DataFrame'>\n",
      "RangeIndex: 720679 entries, 0 to 720678\n",
      "Data columns (total 6 columns):\n",
      " #   Column     Non-Null Count   Dtype              \n",
      "---  ------     --------------   -----              \n",
      " 0   device     720679 non-null  object             \n",
      " 1   end_ts     720679 non-null  datetime64[ns, UTC]\n",
      " 2   source_id  720679 non-null  int64              \n",
      " 3   start_dt   720679 non-null  datetime64[ns]     \n",
      " 4   start_ts   720679 non-null  datetime64[ns, UTC]\n",
      " 5   uid        720679 non-null  int64              \n",
      "dtypes: datetime64[ns, UTC](2), datetime64[ns](1), int64(2), object(1)\n",
      "memory usage: 33.0+ MB\n"
     ]
    },
    {
     "data": {
      "text/plain": [
       "(720679, 6)"
      ]
     },
     "execution_count": 37,
     "metadata": {},
     "output_type": "execute_result"
    }
   ],
   "source": [
    "#Просмотр типов данных: \n",
    "df1p.info()\n",
    "df2v.info()"
   ]
  },
  {
   "cell_type": "code",
   "execution_count": 31,
   "id": "d7b3f5f3-45fb-4945-a985-61d902b80063",
   "metadata": {},
   "outputs": [
    {
     "data": {
      "text/html": [
       "<div>\n",
       "<style scoped>\n",
       "    .dataframe tbody tr th:only-of-type {\n",
       "        vertical-align: middle;\n",
       "    }\n",
       "\n",
       "    .dataframe tbody tr th {\n",
       "        vertical-align: top;\n",
       "    }\n",
       "\n",
       "    .dataframe thead th {\n",
       "        text-align: right;\n",
       "    }\n",
       "</style>\n",
       "<table border=\"1\" class=\"dataframe\">\n",
       "  <thead>\n",
       "    <tr style=\"text-align: right;\">\n",
       "      <th></th>\n",
       "      <th>device</th>\n",
       "      <th>end_ts</th>\n",
       "      <th>source_id</th>\n",
       "      <th>start_dt</th>\n",
       "      <th>start_ts</th>\n",
       "      <th>uid</th>\n",
       "    </tr>\n",
       "  </thead>\n",
       "  <tbody>\n",
       "    <tr>\n",
       "      <th>0</th>\n",
       "      <td>desktop</td>\n",
       "      <td>2016-11-30 11:04:17+00:00</td>\n",
       "      <td>2</td>\n",
       "      <td>2016-11-30</td>\n",
       "      <td>2016-11-30 10:53:49+00:00</td>\n",
       "      <td>3758486201</td>\n",
       "    </tr>\n",
       "    <tr>\n",
       "      <th>1</th>\n",
       "      <td>desktop</td>\n",
       "      <td>2016-11-10 23:16:57+00:00</td>\n",
       "      <td>4</td>\n",
       "      <td>2016-11-10</td>\n",
       "      <td>2016-11-10 23:08:04+00:00</td>\n",
       "      <td>2933941628</td>\n",
       "    </tr>\n",
       "    <tr>\n",
       "      <th>2</th>\n",
       "      <td>desktop</td>\n",
       "      <td>2016-10-19 18:51:56+00:00</td>\n",
       "      <td>1</td>\n",
       "      <td>2016-10-19</td>\n",
       "      <td>2016-10-19 18:48:16+00:00</td>\n",
       "      <td>1465872791</td>\n",
       "    </tr>\n",
       "    <tr>\n",
       "      <th>3</th>\n",
       "      <td>desktop</td>\n",
       "      <td>2017-01-12 20:51:55+00:00</td>\n",
       "      <td>9</td>\n",
       "      <td>2017-01-12</td>\n",
       "      <td>2017-01-12 20:50:10+00:00</td>\n",
       "      <td>2751875787</td>\n",
       "    </tr>\n",
       "    <tr>\n",
       "      <th>4</th>\n",
       "      <td>touch</td>\n",
       "      <td>2016-07-23 19:17:19+00:00</td>\n",
       "      <td>4</td>\n",
       "      <td>2016-07-23</td>\n",
       "      <td>2016-07-23 19:10:57+00:00</td>\n",
       "      <td>3492372810</td>\n",
       "    </tr>\n",
       "  </tbody>\n",
       "</table>\n",
       "</div>"
      ],
      "text/plain": [
       "    device                    end_ts  source_id   start_dt  \\\n",
       "0  desktop 2016-11-30 11:04:17+00:00          2 2016-11-30   \n",
       "1  desktop 2016-11-10 23:16:57+00:00          4 2016-11-10   \n",
       "2  desktop 2016-10-19 18:51:56+00:00          1 2016-10-19   \n",
       "3  desktop 2017-01-12 20:51:55+00:00          9 2017-01-12   \n",
       "4    touch 2016-07-23 19:17:19+00:00          4 2016-07-23   \n",
       "\n",
       "                   start_ts         uid  \n",
       "0 2016-11-30 10:53:49+00:00  3758486201  \n",
       "1 2016-11-10 23:08:04+00:00  2933941628  \n",
       "2 2016-10-19 18:48:16+00:00  1465872791  \n",
       "3 2017-01-12 20:50:10+00:00  2751875787  \n",
       "4 2016-07-23 19:10:57+00:00  3492372810  "
      ]
     },
     "execution_count": 31,
     "metadata": {},
     "output_type": "execute_result"
    }
   ],
   "source": [
    "#Просмотр дат в визитах:\n",
    "df2v.head()"
   ]
  },
  {
   "cell_type": "code",
   "execution_count": 53,
   "id": "28ab610f-4c25-4d3c-b8de-292992cf005f",
   "metadata": {},
   "outputs": [
    {
     "name": "stdout",
     "output_type": "stream",
     "text": [
      "Покупки (75716, 3)\n",
      "Визиты (720679, 6)\n"
     ]
    }
   ],
   "source": [
    "#Данные до Join:\n",
    "print('Покупки', df1p.shape)\n",
    "print('Визиты', df2v.shape)"
   ]
  },
  {
   "cell_type": "code",
   "execution_count": 54,
   "id": "add3e55e-b075-426a-b16a-5f03bb357a08",
   "metadata": {},
   "outputs": [],
   "source": [
    "#Join файлов:\n",
    "tabl1 = pd.merge(df1p, df2v, on='uid', how='left')"
   ]
  },
  {
   "cell_type": "code",
   "execution_count": 55,
   "id": "87579cf1-9b26-4e90-8af0-36ec03a60d61",
   "metadata": {},
   "outputs": [
    {
     "name": "stdout",
     "output_type": "stream",
     "text": [
      "table1 (5325086, 8)\n"
     ]
    }
   ],
   "source": [
    "#Данные после Join:\n",
    "print('table1', tabl1.shape)"
   ]
  }
 ],
 "metadata": {
  "kernelspec": {
   "display_name": "Python 3 (ipykernel)",
   "language": "python",
   "name": "python3"
  },
  "language_info": {
   "codemirror_mode": {
    "name": "ipython",
    "version": 3
   },
   "file_extension": ".py",
   "mimetype": "text/x-python",
   "name": "python",
   "nbconvert_exporter": "python",
   "pygments_lexer": "ipython3",
   "version": "3.13.3"
  }
 },
 "nbformat": 4,
 "nbformat_minor": 5
}
